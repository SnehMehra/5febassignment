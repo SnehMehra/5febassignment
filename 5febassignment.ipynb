{
 "cells": [
  {
   "cell_type": "code",
   "execution_count": 1,
   "id": "7505ae62-1549-4785-9703-8f44a1e55652",
   "metadata": {},
   "outputs": [],
   "source": [
    "#Q.1\n",
    "# In object-oriented programming, a class is a blueprint for creating objects\n",
    "#The object is an entity that has state and behavior. It may be any real-world object\n",
    "class pwskills1:\n",
    "    def __init__(self,name,phone_number,email_id):\n",
    "        self.name=name\n",
    "        self.phone_number=phone_number\n",
    "        self.email_id=email_id\n",
    "    def return_student_details(self):\n",
    "        return self.name,self.phone_number,self.email_id"
   ]
  },
  {
   "cell_type": "code",
   "execution_count": 2,
   "id": "da517be4-480d-4946-9954-6a2891a33cb5",
   "metadata": {},
   "outputs": [],
   "source": [
    "sneh=pwskills1(\"sneh\",123456,\"snehmehra628@gmail.com\")"
   ]
  },
  {
   "cell_type": "code",
   "execution_count": 3,
   "id": "e879c798-84f1-47ec-9a14-3214c7fa1003",
   "metadata": {},
   "outputs": [
    {
     "data": {
      "text/plain": [
       "('sneh', 123456, 'snehmehra628@gmail.com')"
      ]
     },
     "execution_count": 3,
     "metadata": {},
     "output_type": "execute_result"
    }
   ],
   "source": [
    "sneh.return_student_details()"
   ]
  },
  {
   "cell_type": "code",
   "execution_count": 4,
   "id": "babf98b0-e29b-4607-b535-3a7b6905daf6",
   "metadata": {},
   "outputs": [],
   "source": [
    "#Q.2\n",
    "# Four pillars are:encapsulation,inheritance,polymorphism,abstraction\n"
   ]
  },
  {
   "cell_type": "code",
   "execution_count": 5,
   "id": "a859800f-13d1-4a16-8f75-96cc9b28bb93",
   "metadata": {},
   "outputs": [],
   "source": [
    "#Q,3\n",
    "#__init__ is a special python method that runs whenever a new object is created. These types of functions are used to initialize the attributes of that class, E.g., if the class is Person, then the attributes will be name, age, etc\n",
    "class pwskills1:\n",
    "    def __init__(self,name,phone_number,email_id):\n",
    "        self.name=name\n",
    "        self.phone_number=phone_number\n",
    "        self.email_id=email_id\n",
    "    def return_student_details(self):\n",
    "        return self.name,self.phone_number,self.email_id"
   ]
  },
  {
   "cell_type": "code",
   "execution_count": 6,
   "id": "0d060035-462b-42cc-83b6-f7f5fc4bb9ee",
   "metadata": {},
   "outputs": [],
   "source": [
    "#Q.4\n",
    "#The self variable is used to represent the instance of the class which is often used in object-oriented programming. It works as a reference to the object. Python uses the self parameter to refer to instance attributes and methods of the class.\n"
   ]
  },
  {
   "cell_type": "code",
   "execution_count": 1,
   "id": "132bf57b-eb5e-4674-bcc9-910c87e4b4b6",
   "metadata": {},
   "outputs": [],
   "source": [
    "#Q.5\n",
    "#Inheritance is a mechanism in which one class acquires the property of another class.\n",
    "\n",
    "#single inheritance\n",
    "class test:\n",
    "    def test_meth(self):\n",
    "        return \"first class\""
   ]
  },
  {
   "cell_type": "code",
   "execution_count": 2,
   "id": "ece790c3-117c-4c98-9e62-7c9b7f603d50",
   "metadata": {},
   "outputs": [],
   "source": [
    "class child_test(test):\n",
    "    pass"
   ]
  },
  {
   "cell_type": "code",
   "execution_count": 4,
   "id": "36784bbe-187f-440c-9f42-d67793a49f00",
   "metadata": {},
   "outputs": [],
   "source": [
    "child_test_obj=child_test()"
   ]
  },
  {
   "cell_type": "code",
   "execution_count": 5,
   "id": "d6784fc4-f01e-4faf-9336-6a3c90aa65f5",
   "metadata": {},
   "outputs": [
    {
     "data": {
      "text/plain": [
       "'first class'"
      ]
     },
     "execution_count": 5,
     "metadata": {},
     "output_type": "execute_result"
    }
   ],
   "source": [
    "child_test_obj.test_meth()"
   ]
  },
  {
   "cell_type": "code",
   "execution_count": 7,
   "id": "b9dc68c8-a09f-4842-bbb0-db7038cda06c",
   "metadata": {},
   "outputs": [],
   "source": [
    "#MULTILEVEL INHERITANCE\n",
    "class class1:\n",
    "    def test_class1(self):\n",
    "        return \"first class\""
   ]
  },
  {
   "cell_type": "code",
   "execution_count": 10,
   "id": "420c5a9a-036f-462d-9060-880a6e8f8155",
   "metadata": {},
   "outputs": [],
   "source": [
    "class class2(class1):\n",
    "    def test_class2(self):\n",
    "        return \"second class\""
   ]
  },
  {
   "cell_type": "code",
   "execution_count": 11,
   "id": "bab58fb4-6ff9-437f-9e46-41a412a6579b",
   "metadata": {},
   "outputs": [],
   "source": [
    "class class3(class2):\n",
    "    pass"
   ]
  },
  {
   "cell_type": "code",
   "execution_count": 12,
   "id": "b07be3b8-d126-441c-b269-53ad5c2a6aa8",
   "metadata": {},
   "outputs": [],
   "source": [
    "class3_obj=class3()"
   ]
  },
  {
   "cell_type": "code",
   "execution_count": 13,
   "id": "7b3536a6-e870-4886-a7a2-cc479e6ef705",
   "metadata": {},
   "outputs": [
    {
     "data": {
      "text/plain": [
       "'second class'"
      ]
     },
     "execution_count": 13,
     "metadata": {},
     "output_type": "execute_result"
    }
   ],
   "source": [
    "class3_obj.test_class2()"
   ]
  },
  {
   "cell_type": "code",
   "execution_count": 14,
   "id": "50e23374-a29e-4a24-bcc7-444eaf0d41e8",
   "metadata": {},
   "outputs": [],
   "source": [
    "# multiple inheritance\n",
    "class class1:\n",
    "    def test_class1(self):\n",
    "        return \"first class\""
   ]
  },
  {
   "cell_type": "code",
   "execution_count": 15,
   "id": "5e9956cb-9091-4e89-9fec-fd6e367682c4",
   "metadata": {},
   "outputs": [],
   "source": [
    "class class2:\n",
    "    def test_class2(self):\n",
    "        return \"second class\""
   ]
  },
  {
   "cell_type": "code",
   "execution_count": 16,
   "id": "401b06d4-4e71-42bd-b61b-1a8b17f0e7c2",
   "metadata": {},
   "outputs": [],
   "source": [
    "class class3(class1,class2):\n",
    "    pass"
   ]
  },
  {
   "cell_type": "code",
   "execution_count": 17,
   "id": "5d3e6776-789a-435f-923d-e61286553745",
   "metadata": {},
   "outputs": [],
   "source": [
    "class3_obj=class3()"
   ]
  },
  {
   "cell_type": "code",
   "execution_count": 18,
   "id": "7b819122-747b-4629-9cd2-13e001a85574",
   "metadata": {},
   "outputs": [
    {
     "data": {
      "text/plain": [
       "'first class'"
      ]
     },
     "execution_count": 18,
     "metadata": {},
     "output_type": "execute_result"
    }
   ],
   "source": [
    "class3_obj.test_class1()\n"
   ]
  },
  {
   "cell_type": "code",
   "execution_count": 19,
   "id": "40a0d7f1-e87b-47cf-af53-734ff1537107",
   "metadata": {},
   "outputs": [
    {
     "data": {
      "text/plain": [
       "'second class'"
      ]
     },
     "execution_count": 19,
     "metadata": {},
     "output_type": "execute_result"
    }
   ],
   "source": [
    "class3_obj.test_class2()\n"
   ]
  },
  {
   "cell_type": "code",
   "execution_count": 20,
   "id": "ba5627cd-f345-4411-97af-045eeeb16bdd",
   "metadata": {},
   "outputs": [],
   "source": [
    "# Hierarichal inheritance\n",
    "class class1:\n",
    "    def test_class1(self):\n",
    "        return \"first class\""
   ]
  },
  {
   "cell_type": "code",
   "execution_count": 34,
   "id": "b13631bc-3189-4bf3-92be-26b7e501cd4d",
   "metadata": {},
   "outputs": [],
   "source": [
    "class class2(class1):\n",
    "    def test_class2(self):\n",
    "        pass\n",
    "      "
   ]
  },
  {
   "cell_type": "code",
   "execution_count": 35,
   "id": "eec9f5f9-d084-4d86-9346-a85d0f0fbaad",
   "metadata": {},
   "outputs": [],
   "source": [
    "class class3(class1):\n",
    "    def test_class2(self):\n",
    "        return \" second sub -class of class 1\""
   ]
  },
  {
   "cell_type": "code",
   "execution_count": 36,
   "id": "6fafb9ee-5f87-4b28-9949-8999b6b0f2ee",
   "metadata": {},
   "outputs": [],
   "source": [
    "class2_obj=class2()"
   ]
  },
  {
   "cell_type": "code",
   "execution_count": 37,
   "id": "0dfb7bb7-1a71-4827-ba11-fb1f7cb5f33b",
   "metadata": {},
   "outputs": [
    {
     "data": {
      "text/plain": [
       "'first class'"
      ]
     },
     "execution_count": 37,
     "metadata": {},
     "output_type": "execute_result"
    }
   ],
   "source": [
    "class2_obj.test_class1()"
   ]
  },
  {
   "cell_type": "code",
   "execution_count": 38,
   "id": "2b8c07a8-5f8b-4c6b-93ba-7848b7cb5ebe",
   "metadata": {},
   "outputs": [],
   "source": [
    "class3_obj=class3()\n",
    "\n"
   ]
  },
  {
   "cell_type": "code",
   "execution_count": 40,
   "id": "82d863dd-4ffa-4ecc-8145-d1303b1b0537",
   "metadata": {},
   "outputs": [
    {
     "data": {
      "text/plain": [
       "'first class'"
      ]
     },
     "execution_count": 40,
     "metadata": {},
     "output_type": "execute_result"
    }
   ],
   "source": [
    "class3_obj.test_class1()"
   ]
  },
  {
   "cell_type": "code",
   "execution_count": 41,
   "id": "5674b069-aa80-4c3b-95f8-03f2e8eb211d",
   "metadata": {},
   "outputs": [],
   "source": [
    "# hybrid inheritance\n",
    "\n",
    "\n",
    "class A:\n",
    "    def test_A(self):\n",
    "        return \"a\""
   ]
  },
  {
   "cell_type": "code",
   "execution_count": 42,
   "id": "169764a9-15fd-4f20-8322-95411a537ebd",
   "metadata": {},
   "outputs": [],
   "source": [
    "class D:\n",
    "    def test_D(self):\n",
    "        return \"d\""
   ]
  },
  {
   "cell_type": "code",
   "execution_count": 43,
   "id": "2b139bc0-ce94-446e-8d1d-f6d5750c48c2",
   "metadata": {},
   "outputs": [],
   "source": [
    "class B(A):\n",
    "    def test_b(self):\n",
    "        pass\n",
    "    "
   ]
  },
  {
   "cell_type": "code",
   "execution_count": 44,
   "id": "383aea30-65fe-499e-93d3-006a4e11d3c5",
   "metadata": {},
   "outputs": [],
   "source": [
    "class C(A):\n",
    "    def test_c(self):\n",
    "        pass\n",
    "    \n",
    "\n"
   ]
  },
  {
   "cell_type": "code",
   "execution_count": 45,
   "id": "7de8ee1a-6299-41d6-a50e-4dd1af406b6d",
   "metadata": {},
   "outputs": [],
   "source": [
    "class E(A,D):\n",
    "    def test_d(self):\n",
    "        pass\n",
    "    \n"
   ]
  },
  {
   "cell_type": "code",
   "execution_count": 46,
   "id": "09381797-f0ec-44e0-8648-7ed9519ca93e",
   "metadata": {},
   "outputs": [],
   "source": [
    "B_obj=B()"
   ]
  },
  {
   "cell_type": "code",
   "execution_count": 47,
   "id": "67eb3b69-84d9-46a2-8d45-3602d5720d85",
   "metadata": {},
   "outputs": [],
   "source": [
    "C_obj=C()"
   ]
  },
  {
   "cell_type": "code",
   "execution_count": 48,
   "id": "b43e29a8-6f76-4de9-ad11-6b772262bf5b",
   "metadata": {},
   "outputs": [],
   "source": [
    "E_obj=E()"
   ]
  },
  {
   "cell_type": "code",
   "execution_count": 49,
   "id": "3568a4a5-90d8-45aa-ad32-7d965cc781b8",
   "metadata": {},
   "outputs": [
    {
     "data": {
      "text/plain": [
       "'a'"
      ]
     },
     "execution_count": 49,
     "metadata": {},
     "output_type": "execute_result"
    }
   ],
   "source": [
    "B_obj.test_A()"
   ]
  },
  {
   "cell_type": "code",
   "execution_count": 50,
   "id": "a2c262de-9ebd-4850-bb11-1dd739980481",
   "metadata": {},
   "outputs": [
    {
     "data": {
      "text/plain": [
       "'a'"
      ]
     },
     "execution_count": 50,
     "metadata": {},
     "output_type": "execute_result"
    }
   ],
   "source": [
    "C_obj.test_A()"
   ]
  },
  {
   "cell_type": "code",
   "execution_count": 52,
   "id": "4d159be3-5e19-404d-8ed6-1da6d897d5a0",
   "metadata": {},
   "outputs": [
    {
     "data": {
      "text/plain": [
       "'d'"
      ]
     },
     "execution_count": 52,
     "metadata": {},
     "output_type": "execute_result"
    }
   ],
   "source": [
    "E_obj.test_D()"
   ]
  },
  {
   "cell_type": "code",
   "execution_count": null,
   "id": "cbb488e2-ea76-4c32-9055-19790736a966",
   "metadata": {},
   "outputs": [],
   "source": []
  }
 ],
 "metadata": {
  "kernelspec": {
   "display_name": "Python 3 (ipykernel)",
   "language": "python",
   "name": "python3"
  },
  "language_info": {
   "codemirror_mode": {
    "name": "ipython",
    "version": 3
   },
   "file_extension": ".py",
   "mimetype": "text/x-python",
   "name": "python",
   "nbconvert_exporter": "python",
   "pygments_lexer": "ipython3",
   "version": "3.10.8"
  }
 },
 "nbformat": 4,
 "nbformat_minor": 5
}
